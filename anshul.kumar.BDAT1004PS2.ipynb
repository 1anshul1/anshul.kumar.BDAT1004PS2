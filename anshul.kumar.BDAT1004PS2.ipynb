{
 "cells": [
  {
   "cell_type": "markdown",
   "id": "e60e658c",
   "metadata": {},
   "source": [
    "### Question 1"
   ]
  },
  {
   "cell_type": "markdown",
   "id": "9ec5faed",
   "metadata": {},
   "source": [
    "What value is displayed when the last expression (a) is evaluated? Explain your\n",
    "answer by indicating what happens in every executed statement."
   ]
  },
  {
   "cell_type": "code",
   "execution_count": 1,
   "id": "e3751442",
   "metadata": {},
   "outputs": [],
   "source": [
    "a = 0\n",
    "def b():\n",
    " global a\n",
    " a = c(a)\n",
    "def c(a):\n",
    " return a + 2"
   ]
  },
  {
   "cell_type": "code",
   "execution_count": 2,
   "id": "c7f7c9be",
   "metadata": {},
   "outputs": [],
   "source": [
    "b()"
   ]
  },
  {
   "cell_type": "code",
   "execution_count": 3,
   "id": "10e9def5",
   "metadata": {},
   "outputs": [],
   "source": [
    "b()"
   ]
  },
  {
   "cell_type": "code",
   "execution_count": 4,
   "id": "1e9ef3e1",
   "metadata": {},
   "outputs": [],
   "source": [
    "b()"
   ]
  },
  {
   "cell_type": "code",
   "execution_count": 5,
   "id": "5147560d",
   "metadata": {},
   "outputs": [
    {
     "data": {
      "text/plain": [
       "6"
      ]
     },
     "execution_count": 5,
     "metadata": {},
     "output_type": "execute_result"
    }
   ],
   "source": [
    "a"
   ]
  },
  {
   "cell_type": "markdown",
   "id": "94bdda26",
   "metadata": {},
   "source": [
    "Explanation: \n",
    "- We start with the variable a set to 0.\n",
    "- We create a function called b.\n",
    "- Inside the function, we tell it that a is a global variable, so it can be changed from inside the function.\n",
    "- In the function b, we call another function called c and pass a as an input.\n",
    "- The function c takes the input value and adds 2 to it.\n",
    "- The modified value from c is assigned back to a, changing its value.\n",
    "- Now we run b(), and it changes the value of a to 2 because c(0) is 0 + 2 = 2.\n",
    "- We run b() again, and a becomes 4 because c(2) is 2 + 2 = 4.\n",
    "- We run b() one more time, and a becomes 6 because c(4) is 4 + 2 = 6.\n",
    "- Finally, when we check the value of a, it will be 6 because that's the last value we assigned to it."
   ]
  },
  {
   "cell_type": "markdown",
   "id": "835f32c0",
   "metadata": {},
   "source": [
    "### Question 2"
   ]
  },
  {
   "cell_type": "markdown",
   "id": "da558ee0",
   "metadata": {},
   "source": [
    "If the file cannot be found by the interpreter or if it cannot be read\n",
    "as a text file, an exception will be raised. Modify function fileLength() so that a\n",
    "friendly message is printed instead:"
   ]
  },
  {
   "cell_type": "code",
   "execution_count": 7,
   "id": "f6f99f64",
   "metadata": {},
   "outputs": [],
   "source": [
    "import os\n",
    "\n",
    "def fileLength(filename):\n",
    "    # Check if the file exists\n",
    "    if os.path.exists(filename):\n",
    "        # Open the file\n",
    "        file = open(filename)\n",
    "        # Read the contents of the file\n",
    "        contents = file.read()\n",
    "        # Close the file\n",
    "        file.close()\n",
    "        # Return the length of the contents\n",
    "        return len(contents)\n",
    "    else:\n",
    "        # If the file is not found, print a friendly message\n",
    "        print(\"Oops! The file you're looking for was not found.\")"
   ]
  },
  {
   "cell_type": "code",
   "execution_count": 11,
   "id": "d9405e83",
   "metadata": {},
   "outputs": [
    {
     "data": {
      "text/plain": [
       "26347"
      ]
     },
     "execution_count": 11,
     "metadata": {},
     "output_type": "execute_result"
    }
   ],
   "source": [
    "fileLength('anshul.kumar.BDAT1004PS1.ipynb')"
   ]
  },
  {
   "cell_type": "code",
   "execution_count": 12,
   "id": "d045ac9f",
   "metadata": {},
   "outputs": [
    {
     "name": "stdout",
     "output_type": "stream",
     "text": [
      "Oops! The file you're looking for was not found.\n"
     ]
    }
   ],
   "source": [
    "fileLength('anshul.kumar.BDAT1004PS1.ipyn')"
   ]
  },
  {
   "cell_type": "markdown",
   "id": "5495910e",
   "metadata": {},
   "source": [
    "### Question 3"
   ]
  },
  {
   "cell_type": "code",
   "execution_count": 15,
   "id": "96e423ca",
   "metadata": {},
   "outputs": [],
   "source": [
    "class Marsupial:\n",
    "    def __init__(self):\n",
    "        self.pouch = []\n",
    "\n",
    "    def put_in_pouch(self, item):\n",
    "        # Add item to the pouch\n",
    "        self.pouch.append(item)\n",
    "\n",
    "    def pouch_contents(self):\n",
    "        # Return the contents of the pouch\n",
    "        return self.pouch\n",
    "\n",
    "\n",
    "class Kangaroo(Marsupial):\n",
    "    def __init__(self, x, y):\n",
    "        # Call the Marsupial's constructor\n",
    "        super().__init__()\n",
    "        # Set the coordinates of the Kangaroo\n",
    "        self.x = x\n",
    "        self.y = y\n",
    "\n",
    "    def jump(self, dx, dy):\n",
    "        # Update the coordinates by the given values\n",
    "        self.x += dx\n",
    "        self.y += dy\n",
    "\n",
    "    def __str__(self):\n",
    "        # Return a string representation of the Kangaroo's location\n",
    "        return \"I am a Kangaroo located at coordinates ({}, {})\".format(self.x, self.y)"
   ]
  },
  {
   "cell_type": "code",
   "execution_count": 16,
   "id": "12354458",
   "metadata": {},
   "outputs": [
    {
     "name": "stdout",
     "output_type": "stream",
     "text": [
      "I am a Kangaroo located at coordinates (0, 0)\n",
      "['doll', 'firetruck', 'kitten']\n",
      "I am a Kangaroo located at coordinates (3, 0)\n"
     ]
    }
   ],
   "source": [
    "k = Kangaroo(0, 0)\n",
    "print(k)\n",
    "k.put_in_pouch('doll')\n",
    "k.put_in_pouch('firetruck')\n",
    "k.put_in_pouch('kitten')\n",
    "print(k.pouch_contents())\n",
    "k.jump(1, 0)\n",
    "k.jump(1, 0)\n",
    "k.jump(1, 0)\n",
    "print(k)"
   ]
  },
  {
   "cell_type": "markdown",
   "id": "f9228d33",
   "metadata": {},
   "source": [
    "### Question 4"
   ]
  },
  {
   "cell_type": "code",
   "execution_count": 17,
   "id": "9476bd9a",
   "metadata": {},
   "outputs": [],
   "source": [
    "def collatz(x):\n",
    "    print(x)  # Print the current number in the sequence\n",
    "\n",
    "    if x == 1:\n",
    "        # Base case: Stop when the number reaches 1\n",
    "        return\n",
    "\n",
    "    if x % 2 == 0:\n",
    "        # If the number is even, divide it by 2\n",
    "        collatz(x // 2)\n",
    "    else:\n",
    "        # If the number is odd, multiply it by 3 and add 1\n",
    "        collatz(3 * x + 1)"
   ]
  },
  {
   "cell_type": "code",
   "execution_count": 20,
   "id": "b5581fdb",
   "metadata": {},
   "outputs": [
    {
     "name": "stdout",
     "output_type": "stream",
     "text": [
      "1\n",
      "10\n",
      "5\n",
      "16\n",
      "8\n",
      "4\n",
      "2\n",
      "1\n"
     ]
    }
   ],
   "source": [
    "# Output\n",
    "collatz(1)\n",
    "collatz(10)"
   ]
  },
  {
   "cell_type": "markdown",
   "id": "31602997",
   "metadata": {},
   "source": [
    "### Question 5"
   ]
  },
  {
   "cell_type": "code",
   "execution_count": 54,
   "id": "a07f9e24",
   "metadata": {},
   "outputs": [],
   "source": [
    "def binary(n):\n",
    "    result = ''\n",
    "    if n == 0:\n",
    "        return '0'\n",
    "    while n > 0:\n",
    "        result = str(n % 2) + result\n",
    "        n //= 2\n",
    "    return result"
   ]
  },
  {
   "cell_type": "code",
   "execution_count": 55,
   "id": "4ebda6ef",
   "metadata": {},
   "outputs": [
    {
     "name": "stdout",
     "output_type": "stream",
     "text": [
      "0\n",
      "1\n",
      "11\n",
      "1001\n"
     ]
    }
   ],
   "source": [
    "# Output\n",
    "print(binary(0))\n",
    "print(binary(1))\n",
    "print(binary(3))\n",
    "print(binary(9))"
   ]
  },
  {
   "cell_type": "markdown",
   "id": "4fb96d87",
   "metadata": {},
   "source": [
    "### Question 6"
   ]
  },
  {
   "cell_type": "code",
   "execution_count": 67,
   "id": "a61e9795",
   "metadata": {},
   "outputs": [],
   "source": [
    "from html.parser import HTMLParser\n",
    "\n",
    "class HeadingParser(HTMLParser):\n",
    "    def __init__(self):\n",
    "        super().__init__()\n",
    "        self.indentation = 0  # Variable to keep track of the current indentation level\n",
    "        self.in_heading = False  # Flag to indicate if we are currently inside a heading element\n",
    "\n",
    "    def handle_starttag(self, tag, attrs):\n",
    "        if tag.startswith('h') and len(tag) == 2:  # Check if the tag is a heading element (h1 to h6)\n",
    "            try:\n",
    "                heading_level = int(tag[1])  # Extract the heading level from the tag (e.g., 'h1' -> level 1)\n",
    "                self.indentation = heading_level - 1  # Set the indentation level based on the heading level\n",
    "                self.in_heading = True  # Mark that we are inside a heading element\n",
    "            except ValueError:\n",
    "                pass\n",
    "\n",
    "    def handle_endtag(self, tag):\n",
    "        if tag.startswith('h') and len(tag) == 2:  # Check if the tag is the closing tag of a heading element\n",
    "            self.in_heading = False  # Mark that we are no longer inside a heading element\n",
    "\n",
    "    def handle_data(self, data):\n",
    "        if self.in_heading:  # Check if we are inside a heading element\n",
    "            stripped_data = data.strip()  # Remove leading and trailing whitespaces from the heading content\n",
    "            if stripped_data:  # Check if the heading content is not empty after stripping\n",
    "                print(' ' * self.indentation + stripped_data)  # Print the heading content with appropriate indentation"
   ]
  },
  {
   "cell_type": "code",
   "execution_count": 71,
   "id": "bc7321ee",
   "metadata": {},
   "outputs": [],
   "source": [
    "# Test\n",
    "infile = open('w3c.html')\n",
    "content = infile.read()\n",
    "infile.close()\n"
   ]
  },
  {
   "cell_type": "code",
   "execution_count": 70,
   "id": "d4be0df3",
   "metadata": {},
   "outputs": [
    {
     "name": "stdout",
     "output_type": "stream",
     "text": [
      "W3C Mission\n",
      " Principles\n"
     ]
    }
   ],
   "source": [
    "hp = HeadingParser()\n",
    "hp.feed(content)"
   ]
  },
  {
   "cell_type": "markdown",
   "id": "2fb75a25",
   "metadata": {},
   "source": [
    "### Question 7"
   ]
  },
  {
   "cell_type": "markdown",
   "id": "82072920",
   "metadata": {},
   "source": [
    "### Question 8"
   ]
  },
  {
   "cell_type": "markdown",
   "id": "b53bafd3",
   "metadata": {},
   "source": [
    "a) All the temperature data:\n",
    "- SELECT Temperature FROM table_name;\n",
    "\n",
    "b) All the cities, but without repetition:\n",
    "- SELECT DISTINCT City FROM table_name;\n",
    "\n",
    "c) All the records for India:\n",
    "- SELECT * FROM table_name WHERE Country = 'India';\n",
    "\n",
    "d) All the Fall records:\n",
    "- SELECT * FROM table_name WHERE Season = 'Fall';\n",
    "\n",
    "e) The city, country, and season for which the average rainfall is between 200 and 400 millimeters:\n",
    "- SELECT City, Country, Season \n",
    "      FROM table_name \n",
    "  WHERE Rainfall BETWEEN 200 AND 400;\n",
    "  \n",
    "f) The city and country for which the average Fall temperature is above 20 degrees, in increasing temperature order:\n",
    "- SELECT City, Country \n",
    "      FROM table_name \n",
    "  WHERE Season = 'Fall' AND Temperature > 20 \n",
    "  ORDER BY Temperature ASC;\n",
    "  \n",
    "g) The total annual rainfall for Cairo:\n",
    "- SELECT SUM(Rainfall) AS Total_Rainfall \n",
    "      FROM table_name \n",
    "  WHERE City = 'Cairo';\n",
    "\n",
    "h) The total rainfall for each season:\n",
    "- SELECT Season, SUM(Rainfall) AS Total_Rainfall \n",
    "    FROM table_name \n",
    "  GROUP BY Season;"
   ]
  },
  {
   "cell_type": "markdown",
   "id": "cf00250b",
   "metadata": {},
   "source": [
    "### Question 9"
   ]
  },
  {
   "cell_type": "code",
   "execution_count": 72,
   "id": "04bed2bb",
   "metadata": {},
   "outputs": [],
   "source": [
    " words = ['The', 'quick', 'brown', 'fox', 'jumps', 'over', 'the', 'lazy', 'dog']"
   ]
  },
  {
   "cell_type": "code",
   "execution_count": 103,
   "id": "ecbccbc6",
   "metadata": {},
   "outputs": [
    {
     "name": "stdout",
     "output_type": "stream",
     "text": [
      "a)\n",
      "['THE', 'QUICK', 'BROWN', 'FOX', 'JUMPS', 'OVER', 'THE', 'LAZY', 'DOG']\n",
      "\n",
      "\n",
      "b)\n",
      "['the', 'quick', 'brown', 'fox', 'jumps', 'over', 'the', 'lazy', 'dog']\n",
      "\n",
      "\n",
      "c)  the list of lengths of words in list words\n",
      "[3, 5, 5, 3, 5, 4, 3, 4, 3]\n",
      "\n",
      "\n",
      "d)  the list containing a list for every word of list words, where each list contains the word in uppercase and lowercase and the length of the word.\n",
      "\n",
      "[['THE', 'the', 3], ['QUICK', 'quick', 5], ['BROWN', 'brown', 5], ['FOX', 'fox', 3], ['JUMPS', 'jumps', 5], ['OVER', 'over', 4], ['THE', 'the', 3], ['LAZY', 'lazy', 4], ['DOG', 'dog', 3]]\n",
      "\n",
      "\n",
      "e)  the list of words in list words containing 4 or more characters.\n",
      "['quick', 'brown', 'jumps', 'over', 'lazy']\n"
     ]
    }
   ],
   "source": [
    "print(\"a)\") # ['THE', 'QUICK', 'BROWN', 'FOX', 'JUMPS', 'OVER', 'THE', 'LAZY', 'DOG'])\n",
    "print([word.upper() for word in words])\n",
    "\n",
    "print(\"\\n\\nb)\") #['the', 'quick', 'brown', 'fox', 'jumps', 'over', 'the', 'lazy', 'dog']\n",
    "print([word.lower() for word in words])\n",
    "\n",
    "print(\"\\n\\nc)  the list of lengths of words in list words\")\n",
    "print([len(word) for word in words])\n",
    "\n",
    "print(\"\\n\\nd)  the list containing a list for every word of list words, where each list contains the word in uppercase and lowercase and the length of the word.\\n\")\n",
    "print([[word.upper(), word.lower(), len(word)] for word in words])\n",
    "\n",
    "print(\"\\n\\ne)  the list of words in list words containing 4 or more characters.\")\n",
    "print([word for word in words if len(word) >= 4])\n"
   ]
  }
 ],
 "metadata": {
  "kernelspec": {
   "display_name": "Python 3 (ipykernel)",
   "language": "python",
   "name": "python3"
  },
  "language_info": {
   "codemirror_mode": {
    "name": "ipython",
    "version": 3
   },
   "file_extension": ".py",
   "mimetype": "text/x-python",
   "name": "python",
   "nbconvert_exporter": "python",
   "pygments_lexer": "ipython3",
   "version": "3.9.7"
  }
 },
 "nbformat": 4,
 "nbformat_minor": 5
}
